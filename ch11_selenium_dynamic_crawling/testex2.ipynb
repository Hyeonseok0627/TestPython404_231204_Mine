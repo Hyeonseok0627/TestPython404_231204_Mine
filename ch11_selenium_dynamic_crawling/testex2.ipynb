{
 "cells": [
  {
   "cell_type": "code",
   "execution_count": 6,
   "metadata": {},
   "outputs": [
    {
     "name": "stdout",
     "output_type": "stream",
     "text": [
      "target 타입 조사 : <class 'selenium.webdriver.remote.webelement.WebElement'>\n",
      "link_elements : []\n"
     ]
    }
   ],
   "source": [
    "from selenium import webdriver\n",
    "from selenium.webdriver.common.by import By\n",
    "import time\n",
    "# 드라이버 연결 부분이 변경이 됨.\n",
    "driver = webdriver.Chrome()\n",
    "\n",
    "# pdf p17 예제를 확인.\n",
    "driver.get('https://google.com/ncr')\n",
    "# all_videos = driver.find_elements(By.ID, \"dismissible\")\n",
    "# print(all_videos)\n",
    "# 문법이 이전 자료에서 변경이 됨. :\n",
    "# 구글 검색책 -> 검색어 : 파이썬 입력 -> 해당 페이지로 이동 후\n",
    "# q가 어떤 요소인지는 해당 열리는 웹브라우저 ->F12 -> 해당부분인 검색창을 누르면 거기에 name이 q인 것을 확인 가능\n",
    "target = driver.find_element(By.NAME, \"q\")\n",
    "print(f\"target 타입 조사 : {type(target)}\")\n",
    "target.send_keys(\"파이썬\")\n",
    "target.submit()\n",
    "\n",
    "# 2번째 작업. \n",
    "# 첫번째 링크에 진입 하기. \n",
    "# img_elements = driver.find_elements(By.CSS_SELECTOR,\".rg_i\")\n",
    "# 다시 이미지만 추출해서 담음 임시 리스트 \n",
    "# print(f\"img_elements ================================ : {img_elements}\")\n",
    "# link_elements = driver.find_elements(By.CSS_SELECTOR,\".yuRUbf\")\n",
    "# 한개 요소로는 잡힘\n",
    "# link_element = driver.find_element(By.CSS_SELECTOR,\".LC20lb\")\n",
    "# 여러개 요소 잡기. \n",
    "link_elements2 = driver.find_elements(By.CSS_SELECTOR,\".LC20lb\")\n",
    "print(f\"link_elements2 : {link_elements2}\")\n",
    "\n",
    "# testLink = link_elements.index[0]\n",
    "# testLink.click()\n",
    "# print(f\"link_elements : {link_elements}\")\n",
    "\n",
    "# 이미지 클릭\n",
    "# img.click()\n",
    "\n",
    "\n",
    "\n",
    "time.sleep(2)\n",
    "datas = []"
   ]
  }
 ],
 "metadata": {
  "kernelspec": {
   "display_name": "Python 3",
   "language": "python",
   "name": "python3"
  },
  "language_info": {
   "codemirror_mode": {
    "name": "ipython",
    "version": 3
   },
   "file_extension": ".py",
   "mimetype": "text/x-python",
   "name": "python",
   "nbconvert_exporter": "python",
   "pygments_lexer": "ipython3",
   "version": "3.12.0"
  }
 },
 "nbformat": 4,
 "nbformat_minor": 2
}
