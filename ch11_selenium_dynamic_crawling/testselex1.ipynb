{
 "cells": [
  {
   "cell_type": "code",
   "execution_count": 1,
   "metadata": {},
   "outputs": [
    {
     "name": "stdout",
     "output_type": "stream",
     "text": [
      "[<selenium.webdriver.remote.webelement.WebElement (session=\"4024b51c54954f219810aab390e8256b\", element=\"BFD19E92B5C52464F1F1A7DD21264ED4_element_20\")>, <selenium.webdriver.remote.webelement.WebElement (session=\"4024b51c54954f219810aab390e8256b\", element=\"BFD19E92B5C52464F1F1A7DD21264ED4_element_27\")>, <selenium.webdriver.remote.webelement.WebElement (session=\"4024b51c54954f219810aab390e8256b\", element=\"BFD19E92B5C52464F1F1A7DD21264ED4_element_33\")>, <selenium.webdriver.remote.webelement.WebElement (session=\"4024b51c54954f219810aab390e8256b\", element=\"BFD19E92B5C52464F1F1A7DD21264ED4_element_49\")>, <selenium.webdriver.remote.webelement.WebElement (session=\"4024b51c54954f219810aab390e8256b\", element=\"BFD19E92B5C52464F1F1A7DD21264ED4_element_50\")>, <selenium.webdriver.remote.webelement.WebElement (session=\"4024b51c54954f219810aab390e8256b\", element=\"BFD19E92B5C52464F1F1A7DD21264ED4_element_51\")>, <selenium.webdriver.remote.webelement.WebElement (session=\"4024b51c54954f219810aab390e8256b\", element=\"BFD19E92B5C52464F1F1A7DD21264ED4_element_52\")>, <selenium.webdriver.remote.webelement.WebElement (session=\"4024b51c54954f219810aab390e8256b\", element=\"BFD19E92B5C52464F1F1A7DD21264ED4_element_53\")>, <selenium.webdriver.remote.webelement.WebElement (session=\"4024b51c54954f219810aab390e8256b\", element=\"BFD19E92B5C52464F1F1A7DD21264ED4_element_54\")>, <selenium.webdriver.remote.webelement.WebElement (session=\"4024b51c54954f219810aab390e8256b\", element=\"BFD19E92B5C52464F1F1A7DD21264ED4_element_55\")>, <selenium.webdriver.remote.webelement.WebElement (session=\"4024b51c54954f219810aab390e8256b\", element=\"BFD19E92B5C52464F1F1A7DD21264ED4_element_56\")>, <selenium.webdriver.remote.webelement.WebElement (session=\"4024b51c54954f219810aab390e8256b\", element=\"BFD19E92B5C52464F1F1A7DD21264ED4_element_57\")>, <selenium.webdriver.remote.webelement.WebElement (session=\"4024b51c54954f219810aab390e8256b\", element=\"BFD19E92B5C52464F1F1A7DD21264ED4_element_58\")>, <selenium.webdriver.remote.webelement.WebElement (session=\"4024b51c54954f219810aab390e8256b\", element=\"BFD19E92B5C52464F1F1A7DD21264ED4_element_59\")>, <selenium.webdriver.remote.webelement.WebElement (session=\"4024b51c54954f219810aab390e8256b\", element=\"BFD19E92B5C52464F1F1A7DD21264ED4_element_60\")>, <selenium.webdriver.remote.webelement.WebElement (session=\"4024b51c54954f219810aab390e8256b\", element=\"BFD19E92B5C52464F1F1A7DD21264ED4_element_61\")>, <selenium.webdriver.remote.webelement.WebElement (session=\"4024b51c54954f219810aab390e8256b\", element=\"BFD19E92B5C52464F1F1A7DD21264ED4_element_62\")>, <selenium.webdriver.remote.webelement.WebElement (session=\"4024b51c54954f219810aab390e8256b\", element=\"BFD19E92B5C52464F1F1A7DD21264ED4_element_63\")>, <selenium.webdriver.remote.webelement.WebElement (session=\"4024b51c54954f219810aab390e8256b\", element=\"BFD19E92B5C52464F1F1A7DD21264ED4_element_64\")>, <selenium.webdriver.remote.webelement.WebElement (session=\"4024b51c54954f219810aab390e8256b\", element=\"BFD19E92B5C52464F1F1A7DD21264ED4_element_65\")>, <selenium.webdriver.remote.webelement.WebElement (session=\"4024b51c54954f219810aab390e8256b\", element=\"BFD19E92B5C52464F1F1A7DD21264ED4_element_66\")>, <selenium.webdriver.remote.webelement.WebElement (session=\"4024b51c54954f219810aab390e8256b\", element=\"BFD19E92B5C52464F1F1A7DD21264ED4_element_67\")>, <selenium.webdriver.remote.webelement.WebElement (session=\"4024b51c54954f219810aab390e8256b\", element=\"BFD19E92B5C52464F1F1A7DD21264ED4_element_68\")>, <selenium.webdriver.remote.webelement.WebElement (session=\"4024b51c54954f219810aab390e8256b\", element=\"BFD19E92B5C52464F1F1A7DD21264ED4_element_69\")>, <selenium.webdriver.remote.webelement.WebElement (session=\"4024b51c54954f219810aab390e8256b\", element=\"BFD19E92B5C52464F1F1A7DD21264ED4_element_70\")>, <selenium.webdriver.remote.webelement.WebElement (session=\"4024b51c54954f219810aab390e8256b\", element=\"BFD19E92B5C52464F1F1A7DD21264ED4_element_71\")>, <selenium.webdriver.remote.webelement.WebElement (session=\"4024b51c54954f219810aab390e8256b\", element=\"BFD19E92B5C52464F1F1A7DD21264ED4_element_72\")>, <selenium.webdriver.remote.webelement.WebElement (session=\"4024b51c54954f219810aab390e8256b\", element=\"BFD19E92B5C52464F1F1A7DD21264ED4_element_73\")>]\n"
     ]
    }
   ],
   "source": [
    "\n",
    "# pip install selenium \n",
    "from selenium import webdriver\n",
    "from selenium.webdriver.common.by import By\n",
    "import time\n",
    "driver = webdriver.Chrome()\n",
    "driver.get('https://google.com')\n",
    "# r = driver.execute_script('return 100*50')\n",
    "# print(r)\n",
    "driver.get(\"https://www.youtube.com/c/paikscuisine/videos\")\n",
    "all_videos = driver.find_elements(By.ID, \"dismissible\")\n",
    "print(all_videos)\n",
    "\n",
    "time.sleep(2)\n",
    "datas = []"
   ]
  },
  {
   "cell_type": "code",
   "execution_count": 2,
   "metadata": {},
   "outputs": [
    {
     "name": "stderr",
     "output_type": "stream",
     "text": [
      "<string>:103: SyntaxWarning: invalid escape sequence '\\{'\n",
      "<string>:112: SyntaxWarning: invalid escape sequence '\\{'\n",
      "<>:103: SyntaxWarning: invalid escape sequence '\\{'\n",
      "<>:103: SyntaxWarning: invalid escape sequence '\\c'\n",
      "<>:112: SyntaxWarning: invalid escape sequence '\\{'\n",
      "<string>:103: SyntaxWarning: invalid escape sequence '\\{'\n",
      "<string>:112: SyntaxWarning: invalid escape sequence '\\{'\n",
      "<>:103: SyntaxWarning: invalid escape sequence '\\{'\n",
      "<>:103: SyntaxWarning: invalid escape sequence '\\c'\n",
      "<>:112: SyntaxWarning: invalid escape sequence '\\{'\n",
      "/var/folders/jw/52q9cxq151x70d0fmllwytfh0000gn/T/ipykernel_1842/2664160256.py:103: SyntaxWarning: invalid escape sequence '\\{'\n",
      "  save_path = f'C:\\ccestcrawl\\{query}'\n",
      "/var/folders/jw/52q9cxq151x70d0fmllwytfh0000gn/T/ipykernel_1842/2664160256.py:103: SyntaxWarning: invalid escape sequence '\\c'\n",
      "  save_path = f'C:\\ccestcrawl\\{query}'\n",
      "/var/folders/jw/52q9cxq151x70d0fmllwytfh0000gn/T/ipykernel_1842/2664160256.py:112: SyntaxWarning: invalid escape sequence '\\{'\n",
      "  urllib.request.urlretrieve(src,  f\"{save_path}\\{query}_{idx}.png\")\n"
     ]
    },
    {
     "name": "stdout",
     "output_type": "stream",
     "text": [
      "처음 last_hegiht : 0\n"
     ]
    },
    {
     "name": "stderr",
     "output_type": "stream",
     "text": [
      "/var/folders/jw/52q9cxq151x70d0fmllwytfh0000gn/T/ipykernel_1842/2664160256.py:103: SyntaxWarning: invalid escape sequence '\\{'\n",
      "  save_path = f'C:\\ccestcrawl\\{query}'\n",
      "/var/folders/jw/52q9cxq151x70d0fmllwytfh0000gn/T/ipykernel_1842/2664160256.py:103: SyntaxWarning: invalid escape sequence '\\c'\n",
      "  save_path = f'C:\\ccestcrawl\\{query}'\n",
      "/var/folders/jw/52q9cxq151x70d0fmllwytfh0000gn/T/ipykernel_1842/2664160256.py:112: SyntaxWarning: invalid escape sequence '\\{'\n",
      "  urllib.request.urlretrieve(src,  f\"{save_path}\\{query}_{idx}.png\")\n"
     ]
    },
    {
     "ename": "KeyboardInterrupt",
     "evalue": "",
     "output_type": "error",
     "traceback": [
      "\u001b[0;31m---------------------------------------------------------------------------\u001b[0m",
      "\u001b[0;31mKeyboardInterrupt\u001b[0m                         Traceback (most recent call last)",
      "\u001b[1;32m/Users/hyeonseoklee/Desktop/IT Dev/Python_class/TestPython404_231204_Mine/ch11_selenium_dynamic_crawling/testselex1.ipynb 셀 2\u001b[0m line \u001b[0;36m3\n\u001b[1;32m     <a href='vscode-notebook-cell:/Users/hyeonseoklee/Desktop/IT%20Dev/Python_class/TestPython404_231204_Mine/ch11_selenium_dynamic_crawling/testselex1.ipynb#W1sZmlsZQ%3D%3D?line=31'>32</a>\u001b[0m \u001b[39mwhile\u001b[39;00m \u001b[39mTrue\u001b[39;00m:\n\u001b[1;32m     <a href='vscode-notebook-cell:/Users/hyeonseoklee/Desktop/IT%20Dev/Python_class/TestPython404_231204_Mine/ch11_selenium_dynamic_crawling/testselex1.ipynb#W1sZmlsZQ%3D%3D?line=32'>33</a>\u001b[0m     \u001b[39m#화면 가장 아래로 스크롤 내리기\u001b[39;00m\n\u001b[1;32m     <a href='vscode-notebook-cell:/Users/hyeonseoklee/Desktop/IT%20Dev/Python_class/TestPython404_231204_Mine/ch11_selenium_dynamic_crawling/testselex1.ipynb#W1sZmlsZQ%3D%3D?line=33'>34</a>\u001b[0m     driver\u001b[39m.\u001b[39mexecute_script(\u001b[39m\"\u001b[39m\u001b[39mwindow.scrollTo(0, document.body.scrollHeight)\u001b[39m\u001b[39m\"\u001b[39m)\n\u001b[0;32m---> <a href='vscode-notebook-cell:/Users/hyeonseoklee/Desktop/IT%20Dev/Python_class/TestPython404_231204_Mine/ch11_selenium_dynamic_crawling/testselex1.ipynb#W1sZmlsZQ%3D%3D?line=34'>35</a>\u001b[0m     time\u001b[39m.\u001b[39;49msleep(interval)\n\u001b[1;32m     <a href='vscode-notebook-cell:/Users/hyeonseoklee/Desktop/IT%20Dev/Python_class/TestPython404_231204_Mine/ch11_selenium_dynamic_crawling/testselex1.ipynb#W1sZmlsZQ%3D%3D?line=36'>37</a>\u001b[0m     curr_height \u001b[39m=\u001b[39m driver\u001b[39m.\u001b[39mexecute_script(\u001b[39m\"\u001b[39m\u001b[39mreturn document.body.scrollHeight\u001b[39m\u001b[39m\"\u001b[39m)\n\u001b[1;32m     <a href='vscode-notebook-cell:/Users/hyeonseoklee/Desktop/IT%20Dev/Python_class/TestPython404_231204_Mine/ch11_selenium_dynamic_crawling/testselex1.ipynb#W1sZmlsZQ%3D%3D?line=37'>38</a>\u001b[0m     \u001b[39mif\u001b[39;00m curr_height \u001b[39m==\u001b[39m prev_height:\n",
      "\u001b[0;31mKeyboardInterrupt\u001b[0m: "
     ]
    }
   ],
   "source": [
    "from selenium import webdriver\n",
    "from selenium.webdriver.common.by import By\n",
    "import time\n",
    "import urllib.request\n",
    "\n",
    "# chrome_options = webdriver.ChromeOptions()\n",
    "# chrome_options.binary = 'C://chromedriver_win32/chromedriver.exe' # 드라이버 실행파일 경로\n",
    "query = '춘식이'\n",
    "driver = webdriver.Chrome()\n",
    "driver.get(f'https://www.google.com/imghp')\n",
    "# 구글 이미지 검색창 이름이 : q\n",
    "search_bar = driver.find_element(By.NAME,\"q\")\n",
    "# 검색 키워드를 춘식이 설정\n",
    "search_bar.send_keys(query)\n",
    "# 전달. \n",
    "search_bar.submit()\n",
    "# 잠시 대기 시간 ms 1000ms = 1초 \n",
    "PAUSE_TIME = 2\n",
    "# 현재 문서의 스크롤의 높이를 표시. \n",
    "last_hegiht = driver.execute_script(\"return window.scrollY\")\n",
    "print(f\"처음 last_hegiht : {last_hegiht}\")\n",
    "new_height = 0\n",
    "\n",
    "interval = 2\n",
    "prev_height = driver.execute_script(\"return document.body.scrollHeight\")\n",
    "\n",
    "    #  결과 더보기 버튼 .LZ4I\n",
    "    #     resultMoreBtn = driver.find_element(By.CSS_SELECTOR,\".LZ4I\")\n",
    "    #     resultMoreBtn.click()\n",
    "    #     continue\n",
    "\n",
    "while True:\n",
    "    #화면 가장 아래로 스크롤 내리기\n",
    "    driver.execute_script(\"window.scrollTo(0, document.body.scrollHeight)\")\n",
    "    time.sleep(interval)\n",
    "\n",
    "    curr_height = driver.execute_script(\"return document.body.scrollHeight\")\n",
    "    if curr_height == prev_height:\n",
    "        break\n",
    "    \n",
    "    prev_height = curr_height\n",
    "\n",
    "\n",
    "# while True :\n",
    "#     # 스크롤 50px 아래로 이동 수행. \n",
    "#     driver.execute_script(\"window.scrollTo(0,500)\")\n",
    "#     last_hegiht2 = driver.execute_script(\"return document.body.scrollHeight\")\n",
    "#     print(f\"스크롤 이동 명령후 길이 조회 : {last_hegiht2}\")\n",
    "#     # 2 ms 대기\n",
    "#     time.sleep(PAUSE_TIME)\n",
    "#     # 이동 후,  스크롤 높이 \n",
    "#     new_height = driver.execute_script(\"return document.body.scrollHeight\")\n",
    "#     print(f\"반복 new_height : {new_height}\")\n",
    "#     # 스크롤 이동 후 높이가, 크다면 이동했다면\n",
    "#     if new_height - last_hegiht > 0 :\n",
    "#         # 지난 높이에 대입.\n",
    "#         last_hegiht = new_height\n",
    "#         # 다시 반복문으로 돌아가 다시, 50px 내림 \n",
    " \n",
    "#         continue\n",
    "#     # elif new_height - last_hegiht == 0 :\n",
    "#     #     # 결과 더보기 버튼 .LZ4I\n",
    "#     #     resultMoreBtn = driver.find_element(By.CSS_SELECTOR,\".LZ4I\")\n",
    "#     #     resultMoreBtn.click()\n",
    "#     #     continue\n",
    "#     else :\n",
    "#         break\n",
    "#     # 해당 스크롤을 다 내린후, 해당 이미지의 CSS_SELECTOR 를 이용해, 해당 클래스 모두를\n",
    "#     # 추출해서 리스트에 담음\n",
    "img_elements = driver.find_elements(By.CSS_SELECTOR,\".rg_i\")\n",
    "# 다시 이미지만 추출해서 담음 임시 리스트 \n",
    "# print(f\"img_elements ================================ : {img_elements}\")\n",
    "\n",
    "imgs = []\n",
    "# enumerate 함수 이용하면 해당 인덱스도 같이 추출 가능. \n",
    "# 이미지 전체를 다 추출\n",
    "for idx, img in enumerate(img_elements) :\n",
    "    print(f\"{query} : {idx+1}/{len(img_elements)} proceed...\")\n",
    "\n",
    "\n",
    "# Limit to first 10 images (10개의 이미지만 추출)\n",
    "# for idx, img in enumerate(img_elements[:10]):\n",
    "#     print(f\"{query} : {idx+1}/{min(10, len(img_elements))} proceeding...\")\n",
    "\n",
    "    try :\n",
    "        # 이미지 클릭\n",
    "        img.click()\n",
    "        # 잠시 대기 \n",
    "        time.sleep(PAUSE_TIME)\n",
    "        # 이부분에서 에러나면, 직접 개발자 도구 활용해서 XPATH 추출한 뒤에 변경\n",
    "        \n",
    "        img_src = img.get_attribute('src')\n",
    "        img_alt = img.get_attribute('alt')\n",
    "        imgs.append({\n",
    "            'alt' : img_alt,\n",
    "            'src' : img_src\n",
    "        })\n",
    "        \n",
    "    except :\n",
    "        print(f'err in {idx}')\n",
    "        pass\n",
    "driver.close()\n",
    "save_path = f'C:\\ccestcrawl\\{query}'\n",
    "# 이렇게 드라이버 종료가 되면 해당 저장 위치로 이미지가 저장이 됨\n",
    "import os\n",
    "if not os.path.exists(save_path):\n",
    "    os.mkdir(save_path)\n",
    "total_N = len(imgs)\n",
    "for idx, one in enumerate(imgs):\n",
    "    src = one['src']\n",
    "    alt = one['alt']\n",
    "    urllib.request.urlretrieve(src,  f\"{save_path}\\{query}_{idx}.png\")\n",
    "    print(idx, alt)\n",
    "print('done')"
   ]
  },
  {
   "cell_type": "code",
   "execution_count": null,
   "metadata": {},
   "outputs": [],
   "source": []
  }
 ],
 "metadata": {
  "kernelspec": {
   "display_name": "Python 3",
   "language": "python",
   "name": "python3"
  },
  "language_info": {
   "codemirror_mode": {
    "name": "ipython",
    "version": 3
   },
   "file_extension": ".py",
   "mimetype": "text/x-python",
   "name": "python",
   "nbconvert_exporter": "python",
   "pygments_lexer": "ipython3",
   "version": "3.12.0"
  }
 },
 "nbformat": 4,
 "nbformat_minor": 2
}
