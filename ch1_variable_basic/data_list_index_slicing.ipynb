{
 "cells": [
  {
   "cell_type": "code",
   "execution_count": null,
   "metadata": {},
   "outputs": [],
   "source": [
    "# 리스트, 주의, 다른 형끼리 가능.\n",
    "alist = [1,2,3,4,5, \"이현석\"]\n",
    "print(f\"리스트 출력 해보기. : {alist}\")"
   ]
  }
 ],
 "metadata": {
  "language_info": {
   "name": "python"
  }
 },
 "nbformat": 4,
 "nbformat_minor": 2
}
