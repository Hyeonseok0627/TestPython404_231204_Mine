{
 "cells": [
  {
   "cell_type": "code",
   "execution_count": 15,
   "metadata": {},
   "outputs": [
    {
     "name": "stdout",
     "output_type": "stream",
     "text": [
      "리스트 출력 해보기. : [1, 2, 3, 4, 5, '이현석']\n",
      " alist 의 타입 : <class 'list'>\n",
      " a의 타입 : <class 'int'>\n",
      "인덱싱 :  0번째 요소 : 1\n",
      "슬라이싱 : [0:3] : [1, 2, 3]\n",
      "슬라이싱 : 전체 출력 : [1, 2, 3, 4, 5, '이현석']\n",
      "슬라이싱 : 전체 출력 [::1] : [1, 2, 3, 4, 5, '이현석']\n",
      "슬라이싱 : 증가값 +2 출력 [::2] : [1, 3, 5]\n",
      "슬라이싱 : 증가값 -1 출력 [::-1] : ['이현석', 5, 4, 3, 2, 1]\n",
      "슬라이싱 : [2:-1] 출력 [2:-1] : [3, 4, 5]\n",
      "슬라이싱 : [2:4] 출력 [2:4] : [3, 4]\n"
     ]
    }
   ],
   "source": [
    "# 리스트, 주의, 다른 형끼리 가능.\n",
    "# 파이썬에서, 기본적으로, 모든 타입이 : 객체\n",
    "alist = [1,2,3,4,5, \"이현석\"]\n",
    "print(f\"리스트 출력 해보기. : {alist}\")\n",
    "print(f\" alist 의 타입 : {type(alist)}\")\n",
    "# <class 'int'> 이렇게 나온다는 것 자체가 객체라는 의미\n",
    "a = 3\n",
    "print(f\" a의 타입 : {type(a)}\")\n",
    "\n",
    "# 인덱싱, 슬라이싱 [a:b:c], a: 시작값, b: 마지막값, c: 증가값\n",
    "# b 마지막 값은 포함이 안됨.\n",
    "# 리버스 인덱싱, 요소의 맨 마지막이 -1 qnxj tlwkr.\n",
    "print(f\"인덱싱 :  0번째 요소 : {alist[0]}\")\n",
    "\n",
    "# 슬라이싱 alist = [1,2,3,4,5, \"이현석\"]\n",
    "print(f\"슬라이싱 : [0:3] : {alist[0:3]}\")\n",
    "print(f\"슬라이싱 : 전체 출력 : {alist[:]}\")\n",
    "print(f\"슬라이싱 : 전체 출력 [::1] : {alist[::1]}\")\n",
    "print(f\"슬라이싱 : 증가값 +2 출력 [::2] : {alist[::2]}\")\n",
    "print(f\"슬라이싱 : 증가값 -1 출력 [::-1] : {alist[::-1]}\")\n",
    "print(f\"슬라이싱 : [2:-1] 출력 [2:-1] : {alist[2:-1]}\")\n",
    "print(f\"슬라이싱 : [2:4] 출력 [2:4] : {alist[2:4]}\")"
   ]
  },
  {
   "cell_type": "code",
   "execution_count": 17,
   "metadata": {},
   "outputs": [
    {
     "name": "stdout",
     "output_type": "stream",
     "text": [
      "sumList 출력 : [1, 2, 3, 4, 5, '이현석', 1, 2, 3, 4, 5, '이현석']\n",
      "multiList 출력 : [1, 2, 3, 4, 5, '이현석', 1, 2, 3, 4, 5, '이현석', 1, 2, 3, 4, 5, '이현석']\n",
      "alist의 요소의 값 중 3이 있나요? : True\n"
     ]
    }
   ],
   "source": [
    "# 리스트 덧셈, 곱셈, in 연산자\n",
    "alist = [1,2,3,4,5, \"이현석\"]\n",
    "sumList= alist + alist\n",
    "multiList = alist * 3\n",
    "print(f\"sumList 출력 : {sumList}\")\n",
    "print(f\"multiList 출력 : {multiList}\")\n",
    "# in 연산자 확인.\n",
    "print(f\"alist의 요소의 값 중 3이 있나요? : {3 in alist}\")"
   ]
  }
 ],
 "metadata": {
  "kernelspec": {
   "display_name": "Python 3",
   "language": "python",
   "name": "python3"
  },
  "language_info": {
   "codemirror_mode": {
    "name": "ipython",
    "version": 3
   },
   "file_extension": ".py",
   "mimetype": "text/x-python",
   "name": "python",
   "nbconvert_exporter": "python",
   "pygments_lexer": "ipython3",
   "version": "3.12.0"
  }
 },
 "nbformat": 4,
 "nbformat_minor": 2
}
