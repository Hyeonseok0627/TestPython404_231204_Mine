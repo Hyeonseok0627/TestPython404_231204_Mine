{
 "cells": [
  {
   "cell_type": "code",
   "execution_count": 6,
   "metadata": {},
   "outputs": [
    {
     "name": "stdout",
     "output_type": "stream",
     "text": [
      "상품: lhs  , 가격:      10.12\n"
     ]
    }
   ],
   "source": [
    "# -5s : \"-\" 왼쪽 정렬이고, 10.2f 이것처럼 아무것도 안적으면 \"+\"라서 오른쪽 정렬\n",
    "print(\"상품: %(name)-5s, 가격: %(price)10.2f\" % {\"name\" : \"lhs\", \"price\" : 10.12345})"
   ]
  }
 ],
 "metadata": {
  "kernelspec": {
   "display_name": "Python 3",
   "language": "python",
   "name": "python3"
  },
  "language_info": {
   "codemirror_mode": {
    "name": "ipython",
    "version": 3
   },
   "file_extension": ".py",
   "mimetype": "text/x-python",
   "name": "python",
   "nbconvert_exporter": "python",
   "pygments_lexer": "ipython3",
   "version": "3.12.0"
  }
 },
 "nbformat": 4,
 "nbformat_minor": 2
}
