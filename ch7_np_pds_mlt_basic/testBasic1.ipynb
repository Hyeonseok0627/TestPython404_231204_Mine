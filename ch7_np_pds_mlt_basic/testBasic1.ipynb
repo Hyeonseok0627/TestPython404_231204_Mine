{
 "cells": [
  {
   "cell_type": "code",
   "execution_count": 2,
   "metadata": {},
   "outputs": [
    {
     "name": "stdout",
     "output_type": "stream",
     "text": [
      "<class 'numpy.ndarray'>\n",
      "출력해보기 data : [0.78931505 0.45899121 0.47883997 0.78128001 0.78229997 0.04794511\n",
      " 0.72978142 0.78418245 0.69464992 0.48690954 0.10693793 0.03024415\n",
      " 0.00223307 0.78910655 0.74143919 0.72914162 0.02873808 0.55058811\n",
      " 0.0279453  0.32599485 0.9800468  0.672285   0.46522805 0.82768953\n",
      " 0.0302143  0.27097974 0.26666983 0.03001631 0.20691124 0.98202296\n",
      " 0.73222603 0.35052047 0.65027388 0.19726044 0.31449906 0.37923328\n",
      " 0.16774516 0.20034098 0.89599476 0.38625891 0.65448327 0.4846441\n",
      " 0.39359835 0.8458053  0.34387153 0.57580839 0.02684109 0.75907292\n",
      " 0.52015984 0.66692452]\n"
     ]
    }
   ],
   "source": [
    "# pip install numpy\n",
    "# pip install pandas\n",
    "# pip install matplot\n",
    "import numpy as np\n",
    "import pandas as pd\n",
    "# import matplot\n",
    "\n",
    "# 50개 랜덤한 수 생성, 0 ~ 1 사이 소수 중에서,\n",
    "data = np.random.rand(50)\n",
    "print(type(data))\n",
    "print(f\"출력해보기 data : {data}\")\n",
    "\n"
   ]
  }
 ],
 "metadata": {
  "kernelspec": {
   "display_name": "Python 3",
   "language": "python",
   "name": "python3"
  },
  "language_info": {
   "codemirror_mode": {
    "name": "ipython",
    "version": 3
   },
   "file_extension": ".py",
   "mimetype": "text/x-python",
   "name": "python",
   "nbconvert_exporter": "python",
   "pygments_lexer": "ipython3",
   "version": "3.12.0"
  }
 },
 "nbformat": 4,
 "nbformat_minor": 2
}
