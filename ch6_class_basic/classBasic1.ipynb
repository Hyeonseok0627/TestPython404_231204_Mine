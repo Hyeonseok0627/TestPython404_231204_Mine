{
 "cells": [
  {
   "cell_type": "code",
   "execution_count": 2,
   "metadata": {},
   "outputs": [
    {
     "name": "stdout",
     "output_type": "stream",
     "text": [
      "출력해보기 lhs : hi, 이름: 이현석, 나이: 31, 이메일: lhs@naver.com\n",
      "변경한 이메일 : lhs2@naver.com\n",
      "출력해보기 lhs : hi, 이름: 이현석, 나이: 31, 이메일: lhs2@naver.com\n"
     ]
    }
   ],
   "source": [
    "class Person():\n",
    "  # 매개변수 3개인 생성자,\n",
    "  # 해당 클래스 사용시, 반드시 호출되는 함수.\n",
    "  def __init__(self,name,age,email):\n",
    "    self.name = name\n",
    "    self.age = age\n",
    "    self.email = email\n",
    "    \n",
    "  def change_email (self, newEmail):\n",
    "    self.email = newEmail\n",
    "    print(f\"변경한 이메일 : {newEmail}\")\n",
    "\n",
    "  def __str__(self):\n",
    "    return f\"hi, 이름: {self.name}, 나이: {self.age}, 이메일: {self.email}\"\n",
    "  \n",
    "# 클래스 사용하기.\n",
    "lhs = Person(\"이현석\", 31, \"lhs@naver.com\")\n",
    "print(f\"출력해보기 lhs : {lhs}\")\n",
    "\n",
    "# 이메일 변경해보기.\n",
    "lhs.change_email(\"lhs2@naver.com\")\n",
    "print(f\"출력해보기 lhs : {lhs}\")"
   ]
  }
 ],
 "metadata": {
  "kernelspec": {
   "display_name": "Python 3",
   "language": "python",
   "name": "python3"
  },
  "language_info": {
   "codemirror_mode": {
    "name": "ipython",
    "version": 3
   },
   "file_extension": ".py",
   "mimetype": "text/x-python",
   "name": "python",
   "nbconvert_exporter": "python",
   "pygments_lexer": "ipython3",
   "version": "3.12.0"
  }
 },
 "nbformat": 4,
 "nbformat_minor": 2
}
