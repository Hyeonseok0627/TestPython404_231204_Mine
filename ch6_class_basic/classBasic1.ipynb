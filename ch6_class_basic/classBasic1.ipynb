{
 "cells": [
  {
   "cell_type": "code",
   "execution_count": 10,
   "metadata": {},
   "outputs": [
    {
     "name": "stdout",
     "output_type": "stream",
     "text": [
      "출력해보기 lhs : hi, 이름: 이현석, 나이: 31, 이메일: lhs@naver.com\n",
      "변경한 이메일 : lhs2@naver.com\n",
      "출력해보기 lhs : hi, 이름: 이현석, 나이: 31, 이메일: lhs2@naver.com\n",
      "출력해보기 상속받은 child1 : hi, 이름: 자식1, 나이: 31, 이메일: 자식1@naver.com\n",
      "출력해보기 상속받은 child2 : hi, 이름: 자식2, 나이: 20, 이메일: 자식2@naver.com\n",
      "나의 취미는 : netflix 보기\n"
     ]
    }
   ],
   "source": [
    "class Person():\n",
    "  # 매개변수 3개인 생성자,\n",
    "  # 해당 클래스 사용시, 반드시 호출되는 함수.\n",
    "  def __init__(self,name,age,email):\n",
    "    self.name = name\n",
    "    self.age = age\n",
    "    self.email = email\n",
    "    \n",
    "  def change_email (self, newEmail):\n",
    "    self.email = newEmail\n",
    "    print(f\"변경한 이메일 : {newEmail}\")\n",
    "\n",
    "  def __str__(self):\n",
    "    return f\"hi, 이름: {self.name}, 나이: {self.age}, 이메일: {self.email}\"\n",
    "  \n",
    "# 클래스 사용하기.\n",
    "lhs = Person(\"이현석\", 31, \"lhs@naver.com\")\n",
    "print(f\"출력해보기 lhs : {lhs}\")\n",
    "\n",
    "# 이메일 변경해보기.\n",
    "lhs.change_email(\"lhs2@naver.com\")\n",
    "print(f\"출력해보기 lhs : {lhs}\")\n",
    "\n",
    "# 부모 클래스 : Person\n",
    "# 자식 클래스 : Child\n",
    "# 자식 클래스 : Child2\n",
    "\n",
    "class Child(Person):\n",
    "  pass\n",
    "\n",
    "child1 = Child(\"자식1\", 31, \"자식1@naver.com\")\n",
    "print(f\"출력해보기 상속받은 child1 : {child1}\")\n",
    "\n",
    "# 상속을 받았다면, 반드시 부모의 생성자를 먼저 호출한 후, 자기꺼를 생성자 호출 해야함.\n",
    "class Child2(Person):\n",
    "  def __init__(self, name, age, email, hobby):\n",
    "    super().__init__(name, age, email) # 부모의 생성자 호출한 코드\n",
    "    self.hobby = hobby # hobby라는 객체(인스턴스) 생성\n",
    "\n",
    "# def 이 부분 들여쓰기가 잘못되서 오류났었음(class Child2(Person): 안에 들어와야함)\n",
    "  def show_hobby(self):\n",
    "    print(f\"나의 취미는 : {self.hobby}\")  \n",
    "\n",
    "# 클래스 사용하기.\n",
    "child2 = Child2(\"자식2\",20,\"자식2@naver.com\",\"netflix 보기\")\n",
    "print(f\"출력해보기 상속받은 child2 : {child2}\")\n",
    "child2.show_hobby()\n"
   ]
  },
  {
   "cell_type": "code",
   "execution_count": 11,
   "metadata": {},
   "outputs": [
    {
     "name": "stdout",
     "output_type": "stream",
     "text": [
      "동물 이름: 야옹1, 소리: 야옹\n",
      "동물 이름: 야옹2, 소리: 야옹\n",
      "동물 이름: 멍멍1, 소리: 멍멍\n",
      "동물 이름: 멍멍2, 소리: 멍멍\n"
     ]
    }
   ],
   "source": [
    "# 다형성 테스트\n",
    "class Animal:\n",
    "  def __init__(self, name):\n",
    "    self.name = name\n",
    "  def talk(self):\n",
    "    raise NotImplementedError(\"Subclass must implement abstract method\")\n",
    "  \n",
    "#\n",
    "class Cat(Animal):\n",
    "  def talk(self):\n",
    "    return \"야옹\"\n",
    "  \n",
    "class Dog(Animal):\n",
    "  def talk(self):\n",
    "    return \"멍멍\"\n",
    "animals = [Cat(\"야옹1\"), Cat(\"야옹2\"), Dog(\"멍멍1\"), Dog(\"멍멍2\")]\n",
    "\n",
    "for animal in animals:\n",
    "  print(f\"동물 이름: {animal.name}, 소리: {animal.talk()}\")"
   ]
  },
  {
   "cell_type": "code",
   "execution_count": null,
   "metadata": {},
   "outputs": [],
   "source": [
    "# 가시성 테스트"
   ]
  }
 ],
 "metadata": {
  "kernelspec": {
   "display_name": "Python 3",
   "language": "python",
   "name": "python3"
  },
  "language_info": {
   "codemirror_mode": {
    "name": "ipython",
    "version": 3
   },
   "file_extension": ".py",
   "mimetype": "text/x-python",
   "name": "python",
   "nbconvert_exporter": "python",
   "pygments_lexer": "ipython3",
   "version": "3.12.0"
  }
 },
 "nbformat": 4,
 "nbformat_minor": 2
}
